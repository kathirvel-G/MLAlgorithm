{
 "cells": [
  {
   "cell_type": "code",
   "execution_count": 1,
   "id": "37ced1c3",
   "metadata": {},
   "outputs": [],
   "source": [
    "import pickle\n",
    "from flask import Flask , request , Blueprint\n",
    "from flask_cors import CORS \n",
    "from flask_pymongo import pymongo\n",
    "import pandas as pd\n",
    "import matplotlib\n",
    "matplotlib.use('Agg')\n",
    "import matplotlib.pyplot as plt\n",
    "import seaborn as sns\n",
    "import numpy as np\n",
    "from sklearn.model_selection import train_test_split\n",
    "from sklearn.preprocessing import LabelEncoder, MinMaxScaler\n",
    "import datetime\n",
    "import statsmodels.api as sm\n",
    "from statsmodels.tools.eval_measures import rmse\n",
    "import base64\n",
    "from io import BytesIO\n",
    "\n"
   ]
  },
  {
   "cell_type": "code",
   "execution_count": 4,
   "id": "7ceaa4cb",
   "metadata": {},
   "outputs": [],
   "source": [
    "def create_new_dataset(file, yearOffset):\n",
    "\n",
    "        dt = datetime.datetime(2018, 1, 1)\n",
    "        end = datetime.datetime(2018 + yearOffset, 12, 30, 23, 59, 59)\n",
    "        step = datetime.timedelta(days=1)\n",
    "\n",
    "        result = []\n",
    "\n",
    "        while dt < end:\n",
    "            result.append(dt.strftime('%Y-%m-%d %H:%M:%S'))\n",
    "            dt += step\n",
    "            \n",
    "        result = pd.DataFrame(result)\n",
    "        \n",
    "        result.rename(columns={0: 'date'}, inplace=True)\n",
    "        \n",
    "        result.date = pd.to_datetime(result.date, format = \"%Y-%m-%d\")\n",
    "        \n",
    "        result = pd.DataFrame(result)\n",
    "\n",
    "        csvFile = pd.read_csv(file)\n",
    "\n",
    "        predictdata = csvFile.append(result,sort=False,ignore_index=True)\n",
    "        \n",
    "        predictdata.date = pd.to_datetime(predictdata.date, format = \"%Y-%m-%d\")\n",
    "\n",
    "        return predictdata"
   ]
  },
  {
   "cell_type": "code",
   "execution_count": null,
   "id": "0bf8f68a",
   "metadata": {},
   "outputs": [],
   "source": []
  },
  {
   "cell_type": "code",
   "execution_count": null,
   "id": "ae685005",
   "metadata": {},
   "outputs": [],
   "source": [
    "yearOffset = int(input())"
   ]
  },
  {
   "cell_type": "code",
   "execution_count": null,
   "id": "cef516e6",
   "metadata": {},
   "outputs": [],
   "source": [
    "req=create_new_dataset(\"train.csv\",yearOffset-1)"
   ]
  },
  {
   "cell_type": "code",
   "execution_count": null,
   "id": "353a3773",
   "metadata": {},
   "outputs": [],
   "source": [
    "print(req)"
   ]
  },
  {
   "cell_type": "code",
   "execution_count": null,
   "id": "18716f06",
   "metadata": {},
   "outputs": [],
   "source": [
    "def training(csvFile, yearOffset):\n",
    "        if(int(yearOffset) == 0):\n",
    "            train = pd.read_csv(csvFile)\n",
    "        else:\n",
    "            train = csvFile\n",
    "        temp = pd.DataFrame()\n",
    "        temp[\"Date\"] = 0\n",
    "        l = []\n",
    "        for i in train.date:\n",
    "            l.append(str(i)[0:7])\n",
    "        temp[\"Date\"] = l\n",
    "        \n",
    "        train.date = temp.Date\n",
    "        train.date = pd.to_datetime(train.date)\n",
    "        grouped1 = train.groupby('date')['sales'].sum()\n",
    "        \n",
    "    \n",
    "\n",
    "        grouped1= pd.DataFrame(grouped1)\n",
    "        \n",
    "        second = train.groupby(train.date.dt.year)['sales'].mean().reset_index()\n",
    "        \n",
    "        second.date = pd.to_datetime(second.date, format='%Y')\n",
    "        \n",
    "    \n",
    "        grouped1.sales[grouped1.sales==0.0] = np.NaN\n",
    "        \n",
    "        sar = sm.tsa.statespace.SARIMAX(grouped1.sales, order=(12,0,0), seasonal_order=(0,1,0,12), trend='c').fit()\n",
    "        \n",
    "        start, end, dynamic = 40, 100, 7\n",
    "        \n",
    "        plotimage = BytesIO()\n",
    "\n",
    "        grouped1['forecast'] = sar.predict(start=start, end=end, dynamic=dynamic)\n",
    "        \n",
    "        pred_df = grouped1.forecast[start+dynamic:end]\n",
    "        \n",
    "        grouped1[['sales', 'forecast']].plot(color=['mediumblue', 'Red'])\n",
    "\n",
    "        plt.savefig(plotimage , format=\"png\")\n",
    "\n",
    "        plt.close()\n",
    "\n",
    "        plotimage.seek(0)\n",
    "\n",
    "        print(plotimage)\n",
    "\n",
    "        predictedURL = base64.b64encode(plotimage.getvalue()).decode('utf')\n",
    "\n",
    "        returnData = {} \n",
    "\n",
    "        returnData[\"predictedimage\"] = \"data:image/png;base64,\" + predictedURL\n",
    "\n",
    "        final_data = grouped1.to_csv()\n",
    "\n",
    "        final_columns = [x.split(',') for x in final_data.split('\\r\\n')]\n",
    "\n",
    "        final_columns = final_columns[:-1]\n",
    "\n",
    "        returnData[\"resCsv\"] = final_columns\n",
    "\n",
    "        return returnData"
   ]
  },
  {
   "cell_type": "code",
   "execution_count": null,
   "id": "f0f4c046",
   "metadata": {},
   "outputs": [],
   "source": [
    "data = training(req,3)"
   ]
  },
  {
   "cell_type": "code",
   "execution_count": null,
   "id": "f49428dd",
   "metadata": {},
   "outputs": [],
   "source": [
    "print(data)"
   ]
  },
  {
   "cell_type": "code",
   "execution_count": null,
   "id": "ccc4b6a1",
   "metadata": {},
   "outputs": [],
   "source": []
  },
  {
   "cell_type": "code",
   "execution_count": null,
   "id": "68b82308",
   "metadata": {},
   "outputs": [],
   "source": []
  },
  {
   "cell_type": "code",
   "execution_count": null,
   "id": "29a47a8c",
   "metadata": {},
   "outputs": [],
   "source": []
  },
  {
   "cell_type": "code",
   "execution_count": null,
   "id": "85c2e029",
   "metadata": {},
   "outputs": [],
   "source": []
  }
 ],
 "metadata": {
  "kernelspec": {
   "display_name": "Python 3 (ipykernel)",
   "language": "python",
   "name": "python3"
  },
  "language_info": {
   "codemirror_mode": {
    "name": "ipython",
    "version": 3
   },
   "file_extension": ".py",
   "mimetype": "text/x-python",
   "name": "python",
   "nbconvert_exporter": "python",
   "pygments_lexer": "ipython3",
   "version": "3.7.8rc1"
  }
 },
 "nbformat": 4,
 "nbformat_minor": 5
}
